{
 "cells": [
  {
   "cell_type": "markdown",
   "id": "9fec315c",
   "metadata": {},
   "source": [
    "# 环境设置\n",
    "\n",
    "1. 安装npm\n",
    "2. 安装react脚手架\n",
    "    ``` bash\n",
    "    npm i create-react-app g\n",
    "    ```\n",
    "3. 创建react工程通过脚手架。\n",
    "    ``` bash\n",
    "    create-react-app demo01 # demo01是需要创建的工程名\n",
    "    ```\n",
    "4. 安装yarn\n",
    "    ``` bash\n",
    "    npm install yarn\n",
    "    ```\n",
    "5. 将工程修改为yarn管理\n",
    "    * 将工程中的package-lock.json文件删除。\n",
    "    * 执行 ```yarn``` 命令修改工程的包管理器\n",
    "\n",
    "# "
   ]
  }
 ],
 "metadata": {
  "language_info": {
   "name": "python"
  }
 },
 "nbformat": 4,
 "nbformat_minor": 5
}
